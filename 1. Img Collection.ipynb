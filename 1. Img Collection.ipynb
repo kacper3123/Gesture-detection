{
 "cells": [
  {
   "cell_type": "markdown",
   "id": "44da64aa-7c91-490d-9b74-bd5ba0ee5a2e",
   "metadata": {},
   "source": [
    "<h1>1. Import Dependencies</h1>"
   ]
  },
  {
   "cell_type": "code",
   "execution_count": 2,
   "id": "81e3b657-0686-4926-a446-20a828db0c89",
   "metadata": {
    "tags": []
   },
   "outputs": [],
   "source": [
    "import cv2\n",
    "import uuid\n",
    "import os\n",
    "import time"
   ]
  },
  {
   "cell_type": "markdown",
   "id": "4df84eb3-0425-4f8b-808c-79bf25573ce5",
   "metadata": {},
   "source": [
    "<h1>2. Define Images to Collect</h1>"
   ]
  },
  {
   "cell_type": "code",
   "execution_count": 3,
   "id": "ad6bf4d8-31c6-4bb6-b286-bb3c63b554ed",
   "metadata": {},
   "outputs": [],
   "source": [
    "labels = ['thumbsdown', 'thumbsup']\n",
    "number_imgs = 5"
   ]
  },
  {
   "cell_type": "markdown",
   "id": "c1e33ecf-f357-464f-aed5-f013d9ef78a2",
   "metadata": {},
   "source": [
    "<h1>3. Setup Folders</h1>"
   ]
  },
  {
   "cell_type": "code",
   "execution_count": 4,
   "id": "9c60a88f-6533-41b8-82fc-bd77a1062efd",
   "metadata": {},
   "outputs": [],
   "source": [
    "IMAGES_PATH = os.path.join('Tensorflow', 'workspace', 'images')"
   ]
  },
  {
   "cell_type": "code",
   "execution_count": 5,
   "id": "17ffd817-6f46-4b8d-94c5-38625b2aed23",
   "metadata": {},
   "outputs": [],
   "source": [
    "if not os.path.exists(IMAGES_PATH):\n",
    "    if os.name == 'posix':\n",
    "        !mkdir -p {IMAGES_PATH}\n",
    "    if os.name == 'nt':\n",
    "        !mkdir {IMAGES_PATH}\n",
    "for label in labels:\n",
    "    path = os.path.join(IMAGES_PATH, label)\n",
    "    if not os.path.exists(path):\n",
    "        !mkdir {path}"
   ]
  },
  {
   "cell_type": "markdown",
   "id": "a4e9c4a8-ddc1-42d1-bce9-f75540047cb9",
   "metadata": {
    "tags": []
   },
   "source": [
    "<h1>4. Capture Images</h1>"
   ]
  },
  {
   "cell_type": "code",
   "execution_count": 8,
   "id": "e229cdd8-3e51-4dc3-a394-33ebcae9a56e",
   "metadata": {},
   "outputs": [
    {
     "name": "stderr",
     "output_type": "stream",
     "text": [
      "[ WARN:0@196.301] global /croot/opencv-suite_1676452025216/work/modules/videoio/src/cap_gstreamer.cpp (862) isPipelinePlaying OpenCV | GStreamer warning: GStreamer: pipeline have not been created\n"
     ]
    },
    {
     "name": "stdout",
     "output_type": "stream",
     "text": [
      "Collecting images for thumbsdown\n",
      "Collecting image 0\n",
      "Collecting image 1\n",
      "Collecting image 2\n",
      "Collecting image 3\n",
      "Collecting image 4\n"
     ]
    },
    {
     "name": "stderr",
     "output_type": "stream",
     "text": [
      "[ WARN:0@209.079] global /croot/opencv-suite_1676452025216/work/modules/videoio/src/cap_gstreamer.cpp (862) isPipelinePlaying OpenCV | GStreamer warning: GStreamer: pipeline have not been created\n"
     ]
    },
    {
     "name": "stdout",
     "output_type": "stream",
     "text": [
      "Collecting images for thumbsup\n",
      "Collecting image 0\n",
      "Collecting image 1\n",
      "Collecting image 2\n",
      "Collecting image 3\n",
      "Collecting image 4\n"
     ]
    }
   ],
   "source": [
    "for label in labels:\n",
    "    cap = cv2.VideoCapture(0)\n",
    "    print(f'Collecting images for {label}')\n",
    "    time.sleep(1)\n",
    "    for imgnum in range(number_imgs):\n",
    "        print(f'Collecting image {imgnum}')\n",
    "        ret, frame = cap.read()\n",
    "        if ret:\n",
    "            imgname = os.path.join(IMAGES_PATH, label, label+ \".\" + f\"{str(uuid.uuid1())}.jpg\")\n",
    "            cv2.imwrite(imgname, frame)\n",
    "            cv2.imshow('frame', frame)\n",
    "            time.sleep(2)\n",
    "    cap.release()\n",
    "cv2.destroyAllWindows()"
   ]
  },
  {
   "cell_type": "markdown",
   "id": "3b6ab693-34dc-4911-a79f-37cd4c4b036f",
   "metadata": {},
   "source": [
    "<h1>5. Image Labelling</h1>"
   ]
  },
  {
   "cell_type": "code",
   "execution_count": null,
   "id": "e35ae574-6c96-4880-994f-de27139a7de8",
   "metadata": {
    "tags": []
   },
   "outputs": [],
   "source": [
    "!pip install --upgrade pyqt5 lxml"
   ]
  },
  {
   "cell_type": "code",
   "execution_count": null,
   "id": "5a37ae48-f5b9-437e-ab4e-8dd525e5f582",
   "metadata": {
    "tags": []
   },
   "outputs": [],
   "source": [
    "LABELIMG_PATH = os.path.join(\"Tensorflow\", 'labelimg')"
   ]
  },
  {
   "cell_type": "code",
   "execution_count": null,
   "id": "2554bde5-1031-4712-9e14-5a9d3d4449a2",
   "metadata": {
    "tags": []
   },
   "outputs": [],
   "source": [
    "if not os.path.exists(LABELIMG_PATH):\n",
    "    !mkdir {LABELIMG_PATH}\n",
    "    !git clone https://github.com/tzutalin/labelImg {LABELIMG_PATH}"
   ]
  },
  {
   "cell_type": "code",
   "execution_count": null,
   "id": "2b6dad1e-4390-43ee-ac01-1a2fb8c93cde",
   "metadata": {
    "tags": []
   },
   "outputs": [],
   "source": [
    "if os.name == 'posix':\n",
    "    !make qt5py3\n",
    "if os.name =='nt':\n",
    "    !cd {LABELIMG_PATH} && pyrcc5 -o libs/resources.py resources.qrc"
   ]
  },
  {
   "cell_type": "code",
   "execution_count": null,
   "id": "c01063e8-e688-45cb-804f-09c0fc4fd9d3",
   "metadata": {
    "tags": []
   },
   "outputs": [],
   "source": [
    "!cd {LABELIMG_PATH} && python labelImg.py"
   ]
  },
  {
   "cell_type": "code",
   "execution_count": null,
   "id": "bea3d0fc-5cce-4beb-9b4b-8efe33319bec",
   "metadata": {},
   "outputs": [],
   "source": []
  },
  {
   "cell_type": "code",
   "execution_count": null,
   "id": "3f2ee060-d532-4fc9-bfe5-4f12a3a60a2d",
   "metadata": {},
   "outputs": [],
   "source": []
  }
 ],
 "metadata": {
  "kernelspec": {
   "display_name": "tfod",
   "language": "python",
   "name": "tfod"
  },
  "language_info": {
   "codemirror_mode": {
    "name": "ipython",
    "version": 3
   },
   "file_extension": ".py",
   "mimetype": "text/x-python",
   "name": "python",
   "nbconvert_exporter": "python",
   "pygments_lexer": "ipython3",
   "version": "3.9.6"
  }
 },
 "nbformat": 4,
 "nbformat_minor": 5
}
